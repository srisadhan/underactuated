{
 "cells": [
  {
   "cell_type": "markdown",
   "metadata": {},
   "source": [
    "# The Simple Pendulum with Constant Torque\n",
    "\n",
    "I find it extremely useful to use simulation to get physical intuition about these systems.  Let's make sure we understand how the simple pendulum moves when it is exposed to a constant torque.\n",
    "\n",
    "For the duration of this notebook, we'll use the equations of motion $$ml^2 \\ddot\\theta + b\\dot\\theta + mgl \\sin\\theta = u_0,$$ where $u_0$ is our constant scalar torque input."
   ]
  },
  {
   "cell_type": "markdown",
   "metadata": {},
   "source": [
    "## Notebook Setup \n",
    "The following cell will install Drake, checkout the underactuated repository, and set up the path (only if necessary).\n",
    "- On Google's Colaboratory, this **will take approximately two minutes** on the first time it runs (to provision the machine), but should only need to reinstall once every 12 hours.  Colab will ask you to \"Reset all runtimes\"; say no to save yourself the reinstall.\n",
    "- On Binder, the machines should already be provisioned by the time you can run this; it should return (almost) instantly.\n",
    "\n",
    "More details are available [here](http://underactuated.mit.edu/underactuated.html?chapter=drake)."
   ]
  },
  {
   "cell_type": "code",
   "execution_count": null,
   "metadata": {},
   "outputs": [],
   "source": [
    "try:\n",
    "  import pydrake\n",
    "  import underactuated\n",
    "except ImportError:\n",
    "  !curl -s https://raw.githubusercontent.com/RussTedrake/underactuated/master/scripts/setup/jupyter_setup.py > jupyter_setup.py\n",
    "  from jupyter_setup import setup_underactuated\n",
    "  setup_underactuated()\n",
    "\n",
    "# Setup matplotlib backend (to notebook, if possible, or inline).  \n",
    "from underactuated.jupyter import setup_matplotlib_backend\n",
    "plt_is_interactive = setup_matplotlib_backend()\n"
   ]
  },
  {
   "cell_type": "markdown",
   "metadata": {},
   "source": [
    "## Basic simulation\n",
    "\n",
    "The pendulum is a core example in Drake.  We could certainly load it from a .urdf file, but Drake offers a Pendulum implementation that makes it convenient to manipulate the parameters (and visualize the system with different parameters)."
   ]
  },
  {
   "cell_type": "code",
   "execution_count": null,
   "metadata": {},
   "outputs": [],
   "source": [
    "from math import sin\n",
    "from IPython.display import display, HTML\n",
    "import matplotlib.pyplot as plt\n",
    "\n",
    "from pydrake.all import DiagramBuilder, PlanarSceneGraphVisualizer, SceneGraph, Simulator\n",
    "from pydrake.examples.pendulum import PendulumGeometry, PendulumPlant\n",
    "from underactuated.jupyter import SliderSystem\n",
    "\n",
    "builder = DiagramBuilder()\n",
    "pendulum = builder.AddSystem(PendulumPlant())\n",
    "\n",
    "# Setup slider input\n",
    "torque_system = builder.AddSystem(SliderSystem(min=-5., max=5., description=\"Torque\"))\n",
    "builder.Connect(torque_system.get_output_port(0), pendulum.get_input_port(0))\n",
    "\n",
    "# Setup visualization\n",
    "scene_graph = builder.AddSystem(SceneGraph())\n",
    "PendulumGeometry.AddToBuilder(builder, pendulum.get_state_output_port(), scene_graph)\n",
    "visualizer = builder.AddSystem(\n",
    "    PlanarSceneGraphVisualizer(scene_graph, xlim=[-.7, .7], ylim=[-.7, .7], show=plt_is_interactive))\n",
    "builder.Connect(scene_graph.get_pose_bundle_output_port(),\n",
    "                visualizer.get_input_port(0))\n",
    "\n",
    "diagram = builder.Build()\n",
    "\n",
    "# Set up a simulator to run this diagram\n",
    "simulator = Simulator(diagram)\n",
    "simulator.set_target_realtime_rate(1.)\n",
    "context = simulator.get_mutable_context()\n",
    "\n",
    "# TODO(russt): Set/print the parameters.  (Need to add python bindings)\n",
    "# pendulum_context = diagram.GetMutableSubsystemContext(pendulum, context)\n",
    "# pendulum.get_mutable_parameters(pendulum_context)\n",
    "\n",
    "# Set the initial conditions\n",
    "# TODO(russt): Use pendulum.get_mutable_state(pendulum_context) \n",
    "context.SetContinuousState([0., .0]) # theta, thetadot\n",
    "\n",
    "# Simulate\n",
    "#visualizer.start_recording()\n",
    "#duration = 3.0 if get_ipython() else 0.1 # sets a shorter duration during testing\n",
    "#simulator.AdvanceTo(10)\n",
    "#ani = visualizer.get_recording_as_animation()\n",
    "#HTML(ani.to_jshtml())    "
   ]
  },
  {
   "cell_type": "markdown",
   "metadata": {},
   "source": [
    "Use the slider to set your torque, and then run the cell below to simulate."
   ]
  },
  {
   "cell_type": "code",
   "execution_count": null,
   "metadata": {},
   "outputs": [],
   "source": [
    "# Simulate\n",
    "#visualizer.start_recording()\n",
    "#duration = 3.0 if get_ipython() else 0.1 # sets a shorter duration during testing\n",
    "context.SetTime(0.)\n",
    "simulator.AdvanceTo(10)\n",
    "#ani = visualizer.get_recording_as_animation()\n",
    "#HTML(ani.to_jshtml())    "
   ]
  },
  {
   "cell_type": "code",
   "execution_count": null,
   "metadata": {},
   "outputs": [],
   "source": []
  }
 ],
 "metadata": {
  "kernelspec": {
   "display_name": "Python 3",
   "language": "python",
   "name": "python3"
  },
  "language_info": {
   "codemirror_mode": {
    "name": "ipython",
    "version": 3
   },
   "file_extension": ".py",
   "mimetype": "text/x-python",
   "name": "python",
   "nbconvert_exporter": "python",
   "pygments_lexer": "ipython3",
   "version": "3.6.9"
  }
 },
 "nbformat": 4,
 "nbformat_minor": 2
}
