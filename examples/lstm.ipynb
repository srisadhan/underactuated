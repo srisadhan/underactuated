{
 "cells": [
  {
   "cell_type": "markdown",
   "metadata": {},
   "source": [
    "# Long short-term memory (LSTM)\n",
    "\n",
    "A recurrent neural network component..  [Wikipedia](https://en.wikipedia.org/wiki/Long_short-term_memory)\n",
    "\n",
    "We'll look at the \"peephole LSTM\" version...\n",
    "\\begin{align}\n",
    "i[n] &= \\sigma_g(A_{i} x[n] + B_{i} u[n] + c_i) & \\text{input gate} \\\\\n",
    "o[n] &= \\sigma_g(A_{o} x[n] + B_{o} u[n] + c_o) & \\text{output gate} \\\\\n",
    "f[n] &= \\sigma_g(A_{f} x[n] + B_{f} u[n] + c_f) & \\text{forget gate} \\\\\n",
    "x[n+1] &= f[n] \\circ x[n] + i[n] \\circ \\tanh(B_{c} u[n] + c_c) \\\\\n",
    "y[n] &= \\tanh(o[n] \\circ x[n])\n",
    "\\end{align}\n",
    "\n",
    "where the operator $\\circ$  denotes the Hadamard product (element-wise product). $\\sigma _{g}(x) = \\frac{1}{1+e^{-x}} \\in (0,1)$ is the sigmoid function and recall that $\\tanh(x) \\in (-1,1)$.  The initial conditions are nearly always taken to be $x[0]=0$.\n",
    "\n",
    "The intuition here is that we have four total inputs, $u[n] \\in \\Re^N$, and some \"latching\" inputs: $f[n], o[n], i[n] \\in (0,1)^N$ -- but we use a sigmoid to give a differentiable version of these latches.  $o[n]$ simply turns on/off the output (it does not effect the state dynamics).  So let us think about the dynamics as: \n",
    "\n",
    "$$x[n+1] = \\begin{cases} 0 & f[n]=i[n]=0 \\\\ x[n] & {f[n]=1, i[n]=0} \\\\ \\tanh(B_c u[n] + c_c) & f[n]=0, i[n]=1, \\\\ x[n] + \\tanh(B_c u[n] + c_c) & f[n]=i[n]=1.\\end{cases}$$\n",
    "\n",
    "We can plot that response to confirm our intuition.\n"
   ]
  },
  {
   "cell_type": "code",
   "execution_count": 4,
   "metadata": {},
   "outputs": [],
   "source": [
    "from IPython import get_ipython\n",
    "from ipywidgets import interact\n",
    "if get_ipython() is not None: get_ipython().run_line_magic(\"matplotlib\", \"qt5\")\n",
    "\n",
    "import matplotlib.pyplot as plt\n",
    "import numpy as np\n",
    "plt.rcParams['figure.figsize'] = [10, 8]\n",
    "\n",
    "# Compute x[n+1]\n",
    "def lstm(x, u=0, f=0, i=0, b=1, c=0):\n",
    "    return f*x + i*np.tanh(b*u + c) \n",
    "\n",
    "Lstm = np.vectorize(lstm)\n",
    "xmax = 2.\n",
    "ymax = 2.\n",
    "x = np.arange(-xmax, xmax, 0.01)\n",
    "\n",
    "\n",
    "def plot_lstm(u,f,i):\n",
    "    \n",
    "#    for u in range(-5,5):\n",
    "    plt.clear()\n",
    "    plt.plot(x, Lstm(x, u=u, f=f, i=i), linewidth=2., label=\"u=\" + str(u))\n",
    "\n",
    "    plt.title(\"f=\"+str(f) + \", i=\" + str(i))\n",
    "    plt.xlabel(\"x\")\n",
    "    plt.ylim((-ymax, ymax))\n",
    "    plt.ylabel(\"x[n+1]\")\n",
    "    plt.legend()\n",
    "\n",
    "    # draw the x and y axes.\n",
    "    plt.plot([-xmax, xmax], [0, 0], color=\"k\", linestyle=\"-\", linewidth=1.)\n",
    "    plt.plot([0, 0], [-ymax, ymax], color=\"k\", linestyle=\"-\", linewidth=1.)\n",
    "    # draw the line through the origin with slope -1.\n",
    "    plt.plot([-ymax, ymax], [-ymax, ymax], color=\"k\", linestyle=\"-\", linewidth=1.)\n",
    "    plt.axis(\"equal\")\n"
   ]
  },
  {
   "cell_type": "code",
   "execution_count": 5,
   "metadata": {},
   "outputs": [
    {
     "data": {
      "application/vnd.jupyter.widget-view+json": {
       "model_id": "4df27e8ef73644688d7e05231156518e",
       "version_major": 2,
       "version_minor": 0
      },
      "text/plain": [
       "FloatSlider(value=0.5, description='f', max=1.0)"
      ]
     },
     "metadata": {},
     "output_type": "display_data"
    },
    {
     "data": {
      "application/vnd.jupyter.widget-view+json": {
       "model_id": "c0c573bc8d4944418cd5cfd1ea70b783",
       "version_major": 2,
       "version_minor": 0
      },
      "text/plain": [
       "FloatSlider(value=0.5, description='i', max=1.0)"
      ]
     },
     "metadata": {},
     "output_type": "display_data"
    }
   ],
   "source": [
    "from IPython.display import display\n",
    "from ipywidgets.widgets import FloatSlider\n",
    "\n",
    "f = FloatSlider(description=\"f\", min=0, max=1, value=0.5)\n",
    "display(f)\n",
    "i = FloatSlider(description=\"i\", min=0, max=1, value=0.5)\n",
    "display(i)"
   ]
  },
  {
   "cell_type": "code",
   "execution_count": 6,
   "metadata": {},
   "outputs": [
    {
     "data": {
      "application/vnd.jupyter.widget-view+json": {
       "model_id": "19e936a4985a472b8a3eec3822896552",
       "version_major": 2,
       "version_minor": 0
      },
      "text/plain": [
       "interactive(children=(IntSlider(value=0, description='u', max=5, min=-5), IntSlider(value=0, description='f', …"
      ]
     },
     "metadata": {},
     "output_type": "display_data"
    },
    {
     "data": {
      "text/plain": [
       "<function __main__.plot_lstm(u, f, i)>"
      ]
     },
     "execution_count": 6,
     "metadata": {},
     "output_type": "execute_result"
    }
   ],
   "source": [
    "interact(plot_lstm, u=(-5,5), f=(0,1), i=(0,1))"
   ]
  },
  {
   "cell_type": "code",
   "execution_count": null,
   "metadata": {},
   "outputs": [],
   "source": []
  }
 ],
 "metadata": {
  "kernelspec": {
   "display_name": "Python 3",
   "language": "python",
   "name": "python3"
  },
  "language_info": {
   "codemirror_mode": {
    "name": "ipython",
    "version": 3
   },
   "file_extension": ".py",
   "mimetype": "text/x-python",
   "name": "python",
   "nbconvert_exporter": "python",
   "pygments_lexer": "ipython3",
   "version": "3.7.6"
  }
 },
 "nbformat": 4,
 "nbformat_minor": 2
}
